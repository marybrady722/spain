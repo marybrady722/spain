{
 "cells": [
  {
   "cell_type": "markdown",
   "metadata": {},
   "source": [
    "<div> Choose an example data set by commenting out all but one of the lines below and run! </div>"
   ]
  },
  {
   "cell_type": "code",
   "execution_count": 1,
   "metadata": {},
   "outputs": [],
   "source": [
    "input_folder = 'denmarkData'\n",
    "#input_folder = 'englandData'\n",
    "#input_folder = 'oceaniaData'"
   ]
  },
  {
   "cell_type": "markdown",
   "metadata": {},
   "source": [
    "<div> Run this block, this imports the neccessary functions. </div>"
   ]
  },
  {
   "cell_type": "code",
   "execution_count": 2,
   "metadata": {},
   "outputs": [
    {
     "ename": "ImportError",
     "evalue": "cannot import name '_aligners' from partially initialized module 'Bio.Align' (most likely due to a circular import) (c:\\python38\\lib\\site-packages\\Bio\\Align\\__init__.py)",
     "output_type": "error",
     "traceback": [
      "\u001b[1;31m---------------------------------------------------------------------------\u001b[0m",
      "\u001b[1;31mImportError\u001b[0m                               Traceback (most recent call last)",
      "\u001b[1;32m<ipython-input-2-88ec14f30583>\u001b[0m in \u001b[0;36m<module>\u001b[1;34m\u001b[0m\n\u001b[0;32m      1\u001b[0m \u001b[1;32mimport\u001b[0m \u001b[0mos\u001b[0m\u001b[1;33m\u001b[0m\u001b[1;33m\u001b[0m\u001b[0m\n\u001b[0;32m      2\u001b[0m \u001b[1;33m\u001b[0m\u001b[0m\n\u001b[1;32m----> 3\u001b[1;33m \u001b[1;32mfrom\u001b[0m \u001b[0mtransmissionTools\u001b[0m \u001b[1;32mimport\u001b[0m \u001b[0mfilter_empty\u001b[0m\u001b[1;33m,\u001b[0m \u001b[0mempty_move\u001b[0m\u001b[1;33m,\u001b[0m \u001b[0m_is_valid_lfv\u001b[0m\u001b[1;33m,\u001b[0m \u001b[0mmask_parse\u001b[0m\u001b[1;33m,\u001b[0m \u001b[0mextract_lfv\u001b[0m\u001b[1;33m,\u001b[0m \u001b[0mbb_input_data\u001b[0m\u001b[1;33m,\u001b[0m \u001b[0mall_pairs_parse\u001b[0m\u001b[1;33m,\u001b[0m \u001b[0mbb_file_writer\u001b[0m\u001b[1;33m,\u001b[0m \u001b[0mall_pairs\u001b[0m\u001b[1;33m,\u001b[0m \u001b[0msv_counter\u001b[0m\u001b[1;33m,\u001b[0m \u001b[0mposition_counter\u001b[0m\u001b[1;33m,\u001b[0m \u001b[0mmake_standard_bar_plot\u001b[0m\u001b[1;33m,\u001b[0m \u001b[0mbar_plots\u001b[0m\u001b[1;33m,\u001b[0m \u001b[0mmasked_shared_variants\u001b[0m\u001b[1;33m,\u001b[0m \u001b[0mshared_positions\u001b[0m\u001b[1;33m,\u001b[0m \u001b[0mFastaAligner\u001b[0m\u001b[1;33m,\u001b[0m \u001b[0mMultiFastaParser\u001b[0m\u001b[1;33m,\u001b[0m \u001b[0mPhyloTree\u001b[0m\u001b[1;33m\u001b[0m\u001b[1;33m\u001b[0m\u001b[0m\n\u001b[0m\u001b[0;32m      4\u001b[0m \u001b[1;33m\u001b[0m\u001b[0m\n",
      "\u001b[1;32m~\\Desktop\\Research\\transmission\\sample_data\\transmissionTools.py\u001b[0m in \u001b[0;36m<module>\u001b[1;34m\u001b[0m\n\u001b[0;32m     18\u001b[0m \u001b[1;32mimport\u001b[0m \u001b[0mtoyplot\u001b[0m\u001b[1;33m.\u001b[0m\u001b[0msvg\u001b[0m\u001b[1;33m\u001b[0m\u001b[1;33m\u001b[0m\u001b[0m\n\u001b[0;32m     19\u001b[0m \u001b[1;32mimport\u001b[0m \u001b[0mBio\u001b[0m\u001b[1;33m\u001b[0m\u001b[1;33m\u001b[0m\u001b[0m\n\u001b[1;32m---> 20\u001b[1;33m \u001b[1;32mfrom\u001b[0m \u001b[0mBio\u001b[0m \u001b[1;32mimport\u001b[0m \u001b[0mAlignIO\u001b[0m\u001b[1;33m\u001b[0m\u001b[1;33m\u001b[0m\u001b[0m\n\u001b[0m\u001b[0;32m     21\u001b[0m \u001b[1;33m\u001b[0m\u001b[0m\n\u001b[0;32m     22\u001b[0m \u001b[1;33m\u001b[0m\u001b[0m\n",
      "\u001b[1;32mc:\\python38\\lib\\site-packages\\Bio\\AlignIO\\__init__.py\u001b[0m in \u001b[0;36m<module>\u001b[1;34m\u001b[0m\n\u001b[0;32m    143\u001b[0m \u001b[1;31m#   http://www.bioperl.org/wiki/MSF_multiple_alignment_format\u001b[0m\u001b[1;33m\u001b[0m\u001b[1;33m\u001b[0m\u001b[1;33m\u001b[0m\u001b[0m\n\u001b[0;32m    144\u001b[0m \u001b[1;33m\u001b[0m\u001b[0m\n\u001b[1;32m--> 145\u001b[1;33m \u001b[1;32mfrom\u001b[0m \u001b[0mBio\u001b[0m\u001b[1;33m.\u001b[0m\u001b[0mAlign\u001b[0m \u001b[1;32mimport\u001b[0m \u001b[0mMultipleSeqAlignment\u001b[0m\u001b[1;33m\u001b[0m\u001b[1;33m\u001b[0m\u001b[0m\n\u001b[0m\u001b[0;32m    146\u001b[0m \u001b[1;32mfrom\u001b[0m \u001b[0mBio\u001b[0m\u001b[1;33m.\u001b[0m\u001b[0mAlphabet\u001b[0m \u001b[1;32mimport\u001b[0m \u001b[0mAlphabet\u001b[0m\u001b[1;33m,\u001b[0m \u001b[0mAlphabetEncoder\u001b[0m\u001b[1;33m,\u001b[0m \u001b[0m_get_base_alphabet\u001b[0m\u001b[1;33m\u001b[0m\u001b[1;33m\u001b[0m\u001b[0m\n\u001b[0;32m    147\u001b[0m \u001b[1;32mfrom\u001b[0m \u001b[0mBio\u001b[0m\u001b[1;33m.\u001b[0m\u001b[0mFile\u001b[0m \u001b[1;32mimport\u001b[0m \u001b[0mas_handle\u001b[0m\u001b[1;33m\u001b[0m\u001b[1;33m\u001b[0m\u001b[0m\n",
      "\u001b[1;32mc:\\python38\\lib\\site-packages\\Bio\\Align\\__init__.py\u001b[0m in \u001b[0;36m<module>\u001b[1;34m\u001b[0m\n\u001b[0;32m     19\u001b[0m \u001b[1;32mfrom\u001b[0m \u001b[0mBio\u001b[0m \u001b[1;32mimport\u001b[0m \u001b[0mAlphabet\u001b[0m\u001b[1;33m\u001b[0m\u001b[1;33m\u001b[0m\u001b[0m\n\u001b[0;32m     20\u001b[0m \u001b[1;32mfrom\u001b[0m \u001b[0mBio\u001b[0m \u001b[1;32mimport\u001b[0m \u001b[0mBiopythonDeprecationWarning\u001b[0m\u001b[1;33m\u001b[0m\u001b[1;33m\u001b[0m\u001b[0m\n\u001b[1;32m---> 21\u001b[1;33m \u001b[1;32mfrom\u001b[0m \u001b[0mBio\u001b[0m\u001b[1;33m.\u001b[0m\u001b[0mAlign\u001b[0m \u001b[1;32mimport\u001b[0m \u001b[0m_aligners\u001b[0m\u001b[1;33m\u001b[0m\u001b[1;33m\u001b[0m\u001b[0m\n\u001b[0m\u001b[0;32m     22\u001b[0m \u001b[1;32mfrom\u001b[0m \u001b[0mBio\u001b[0m\u001b[1;33m.\u001b[0m\u001b[0mSeq\u001b[0m \u001b[1;32mimport\u001b[0m \u001b[0mSeq\u001b[0m\u001b[1;33m\u001b[0m\u001b[1;33m\u001b[0m\u001b[0m\n\u001b[0;32m     23\u001b[0m \u001b[1;32mfrom\u001b[0m \u001b[0mBio\u001b[0m\u001b[1;33m.\u001b[0m\u001b[0mSeqRecord\u001b[0m \u001b[1;32mimport\u001b[0m \u001b[0mSeqRecord\u001b[0m\u001b[1;33m,\u001b[0m \u001b[0m_RestrictedDict\u001b[0m\u001b[1;33m\u001b[0m\u001b[1;33m\u001b[0m\u001b[0m\n",
      "\u001b[1;31mImportError\u001b[0m: cannot import name '_aligners' from partially initialized module 'Bio.Align' (most likely due to a circular import) (c:\\python38\\lib\\site-packages\\Bio\\Align\\__init__.py)"
     ]
    }
   ],
   "source": [
    "import os\n",
    "\n",
    "from transmissionTools import choose_file, filter_empty, empty_move, _is_valid_lfv, mask_parse, extract_lfv, bb_input_data, all_pairs_parse, bb_file_writer, all_pairs, sv_counter, position_counter, make_standard_bar_plot, bar_plots, masked_shared_variants, shared_positions, FastaAligner, MultiFastaParser, PhyloTree\n",
    "\n"
   ]
  },
  {
   "cell_type": "markdown",
   "metadata": {},
   "source": [
    "Filters out empty vcf files"
   ]
  },
  {
   "cell_type": "code",
   "execution_count": 7,
   "metadata": {},
   "outputs": [],
   "source": [
    "#new_path = os.path.join(input_folder, 'vcfs')\n",
    "path, empty = filter_empty(input_folder)\n",
    "empty_move(path, empty)"
   ]
  },
  {
   "cell_type": "markdown",
   "metadata": {},
   "source": [
    "<div> Chooses two random vcfs from the data set to use in examples. If you aren't happy with the vcfs chosen, run this block again to choose new ones. </div>"
   ]
  },
  {
   "cell_type": "code",
   "execution_count": 3,
   "metadata": {},
   "outputs": [],
   "source": [
    "file1, file2 = choose_file(input_folder)"
   ]
  },
  {
   "cell_type": "markdown",
   "metadata": {},
   "source": [
    "# <div align=\"center\"> Bottleneck </div>"
   ]
  },
  {
   "cell_type": "markdown",
   "metadata": {},
   "source": [
    "Runs bb_bottleneck software on txt file created."
   ]
  },
  {
   "cell_type": "code",
   "execution_count": 6,
   "metadata": {},
   "outputs": [],
   "source": [
    "filename = str(bb_file_writer(file1, file2, None))\n",
    "#fix this\n",
    "!Rscript Bottleneck_size_estimation_approx.r --file {filename} --plot_bool TRUE --var_calling_threshold 0.03 --Nb_min 1 --Nb_max 200 --confidence_level .95"
   ]
  },
  {
   "cell_type": "markdown",
   "metadata": {},
   "source": [
    "# <div align=\"center\"> Figures </div>\n"
   ]
  },
  {
   "cell_type": "markdown",
   "metadata": {},
   "source": [
    "### Sample Bar Plots \n",
    "Sample weighted and standard bar plot for a pair in the sample data."
   ]
  },
  {
   "cell_type": "code",
   "execution_count": 8,
   "metadata": {},
   "outputs": [],
   "source": [
    "make_standard_bar_plot(file1, file2, None)\n",
    "#if this doesnt work later, check the .vcf\n",
    "make_standard_bar_plot(file1, file2, None, plot_type='weighted')"
   ]
  },
  {
   "cell_type": "markdown",
   "metadata": {},
   "source": [
    "### Bar Plots \n",
    "Creates all bar plots for a given data set. This creates a new folder with all possible bar plots and could take a while, so don't run this unless you want all possible vcfs of a set."
   ]
  },
  {
   "cell_type": "code",
   "execution_count": 44,
   "metadata": {},
   "outputs": [],
   "source": [
    "bar_plots(input_folder, 'standard')"
   ]
  },
  {
   "cell_type": "code",
   "execution_count": null,
   "metadata": {},
   "outputs": [],
   "source": [
    "bar_plots(input_folder, 'weighted')"
   ]
  },
  {
   "cell_type": "markdown",
   "metadata": {},
   "source": [
    "### Number of Shared Variants Figure\n",
    "Shows number of shared variants each pair has, masked and unmasked."
   ]
  },
  {
   "cell_type": "code",
   "execution_count": 36,
   "metadata": {},
   "outputs": [],
   "source": [
    "masked_dw = all_pairs_parse(input_folder, 'default_mask.txt', max_AF=0.5, min_read_depth=10)\n",
    "complete_dw = all_pairs_parse(input_folder, max_AF=0.5, min_read_depth=10)"
   ]
  },
  {
   "cell_type": "code",
   "execution_count": 9,
   "metadata": {
    "scrolled": false
   },
   "outputs": [],
   "source": [
    "shared_variants, imp = sv_counter(complete_dw, masked_dw)\n",
    "masked_shared_variants(shared_variants, imp, input_folder)"
   ]
  },
  {
   "cell_type": "markdown",
   "metadata": {},
   "source": [
    "### Variants at Position\n",
    "Shows number of pairs that have variants at certain positions"
   ]
  },
  {
   "cell_type": "code",
   "execution_count": 10,
   "metadata": {},
   "outputs": [],
   "source": [
    "positions = position_counter(complete_dw)\n",
    "shared_positions(positions, 'default_mask.txt', input_folder)"
   ]
  },
  {
   "cell_type": "markdown",
   "metadata": {},
   "source": [
    "### Bottleneck Size of All Pairs\n",
    "Shows bottleneck siize of all pairs above a certain threshold."
   ]
  },
  {
   "cell_type": "code",
   "execution_count": 11,
   "metadata": {
    "scrolled": true
   },
   "outputs": [],
   "source": [
    "all_pairs(input_folder, min_read_depth=10, max_AF=0.5, min_shared=5)"
   ]
  },
  {
   "cell_type": "markdown",
   "metadata": {},
   "source": [
    "# <div align=\"center\"> Phylogenetic Trees </div>"
   ]
  },
  {
   "cell_type": "code",
   "execution_count": null,
   "metadata": {},
   "outputs": [],
   "source": [
    "newick = 'tutorial_seqs/parsnp/parsnp.tree'\n",
    "tree = PhyloTree(newick)"
   ]
  },
  {
   "cell_type": "code",
   "execution_count": null,
   "metadata": {},
   "outputs": [],
   "source": [
    "mfasta = 'tutorial_seqs/parsnp/parsnp.mfa'\n",
    "tree.color_groups(mfasta)\n",
    "tree.draw()"
   ]
  },
  {
   "cell_type": "code",
   "execution_count": null,
   "metadata": {},
   "outputs": [],
   "source": [
    "vcfdir = 'tutorial_vcfs'\n",
    "tree.add_heatmap(vcfdir)"
   ]
  },
  {
   "cell_type": "code",
   "execution_count": null,
   "metadata": {},
   "outputs": [],
   "source": [
    "tree.add_heatmap(vcfdir, width=1500)"
   ]
  },
  {
   "cell_type": "code",
   "execution_count": null,
   "metadata": {},
   "outputs": [],
   "source": [
    "tree.add_heatmap(vcfdir, position_range=(200, 1500))"
   ]
  },
  {
   "cell_type": "code",
   "execution_count": null,
   "metadata": {},
   "outputs": [],
   "source": [
    "tree.save('insert_output_location_here', render_type='html')"
   ]
  }
 ],
 "metadata": {
  "kernelspec": {
   "display_name": "Python 3",
   "language": "python",
   "name": "python3"
  },
  "language_info": {
   "codemirror_mode": {
    "name": "ipython",
    "version": 3
   },
   "file_extension": ".py",
   "mimetype": "text/x-python",
   "name": "python",
   "nbconvert_exporter": "python",
   "pygments_lexer": "ipython3",
   "version": "3.8.3"
  }
 },
 "nbformat": 4,
 "nbformat_minor": 4
}
